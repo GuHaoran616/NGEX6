{
 "cells": [
  {
   "cell_type": "markdown",
   "metadata": {},
   "source": [
    "Some typical NumPy 'random' functions:"
   ]
  },
  {
   "cell_type": "code",
   "execution_count": null,
   "metadata": {},
   "outputs": [],
   "source": [
    "import numpy as np\n",
    "\n",
    "# To generate a random float values between 0 and 1 (exclusive)\n",
    "print(np.random.rand(3, 2)) # Creates a 3 x 2 matrix of random float values between 0 and 1 (exclusive)\n",
    "\n",
    "# To generate random float values from standard normal distribution (mean = 0 and std = 1)\n",
    "print(np.random.randn(5)) # Generates 5 random float values from standard normal distribution\n",
    "\n",
    "# To generate random integer values within a range of values\n",
    "print(np.random.randint(1, 100, 10)) # Generates 10 random integer values between 1 and 100 (exclusive)\n",
    "\n",
    "# To randomly select an element from a given list of elements\n",
    "print(np.random.choice([1, 2, 3, 4, 5, 6, 7, 8, 9], size=3)) # Three random numbers from the given array will be chosen\n",
    "\n",
    "# To generate a random sample of values from a normally distributed with a specified mean and standard deviation\n",
    "print(np.random.normal(loc=0, scale=1, size=10)) # 10 random values will be generated from a normally distributed data where 0 (loc) is the mean and 1 (scale) is the standard deviation\n",
    "\n",
    "# To set a seed for a random number generation to ensure you get the same results later as well\n",
    "print(np.random.seed(42)) # This ensures that any random numbers generated in the program are same every time you run the program. The seed value '42' can be any other value"
   ]
  },
  {
   "cell_type": "markdown",
   "metadata": {},
   "source": [
    "AIM #1: Generate a very large dataset\n",
    "1. Generate a dataset of 1 million random data items between 1 and 100 items using only pandas\n",
    "2. Generate a dataset of 1 million random data items between 1 and 100 using only NumPy\n",
    "3. Calculate the time it takes for both the above operations. \n",
    "    3.1. Import the 'time' module, and use the time() function to calculate current time\n",
    "    3.2. Which one is faster and why?"
   ]
  },
  {
   "cell_type": "code",
   "execution_count": null,
   "metadata": {},
   "outputs": [],
   "source": [
    "#code for AIM #1 .1\n",
    "import pandas as pd\n",
    "import numpy as np\n",
    "import time\n",
    "\n",
    "start_time = time.time()\n",
    "df = pd.DataFrame(np.random.randint(1, 101, size=(1000000, 1)), columns=['RandomNumbers'])\n",
    "pandas_time = time.time() - start_time\n",
    "print(f\"Pandas time: {pandas_time} seconds\")\n",
    "\n"
   ]
  },
  {
   "cell_type": "code",
   "execution_count": null,
   "metadata": {},
   "outputs": [],
   "source": [
    "#code for AIM #1 .2\n",
    "start_time = time.time()\n",
    "np_array = np.random.randint(1, 101, size=1000000)\n",
    "numpy_time = time.time() - start_time\n",
    "print(f\"NumPy time: {numpy_time} seconds\")\n"
   ]
  },
  {
   "cell_type": "code",
   "execution_count": null,
   "metadata": {},
   "outputs": [],
   "source": [
    "#AIM #1 .3\n",
    "Generally, NumPy will be faster than Pandas for large datasets because NumPy operations are implemented in C and optimized for performance, while Pandas adds additional overhead for DataFrame structures."
   ]
  },
  {
   "cell_type": "markdown",
   "metadata": {},
   "source": [
    "AIM #2: Basic statistics\n",
    "For the given dataset on sleep health and lifestyle, do the following\n",
    "1. Using only pandas, load the dataset, calculate mean 'Sleep Duration', 'Systolic Blood Pressure', 'Diastolic Blood Pressure', 'Heart Rate' and 'Daily Steps'.\n",
    "2. Do the same as in Step 1 using only NumPy\n",
    "3. Using only pandas, first calculate correlation (across only the numerical variables), and then separate correlation between...\n",
    "    Sleep duration and Age\n",
    "    Sleep duration and Heart rate\n",
    "    Sleep duration and Daily steps\n",
    "4. Using only NumPy, do the same as Step 3\n",
    "5. Using pandas only, calculate standard deviation for 'Sleep Duration'. \n",
    "6. Usiong NumPy only, calculate standard deviation for 'Sleep Duration'. \n",
    "7. Calculate the time difference between using pandas and NumPy, right from the step of loading the dataset to the final standard deviation step. \n",
    "    5.1. Which one is faster and why?"
   ]
  },
  {
   "cell_type": "code",
   "execution_count": null,
   "metadata": {},
   "outputs": [],
   "source": [
    "#code for AIM #2 .1\n",
    "import pandas as pd\n",
    "import time\n",
    "\n",
    "# Load dataset\n",
    "start_time = time.time()\n",
    "df = pd.read_csv('sleep_health.csv')\n",
    "\n",
    "# Calculate means\n",
    "mean_values = df[['Sleep Duration', 'Systolic Blood Pressure', 'Diastolic Blood Pressure', 'Heart Rate', 'Daily Steps']].mean()\n",
    "pandas_mean_time = time.time() - start_time\n",
    "print(\"Pandas Mean:\\n\", mean_values)\n",
    "print(f\"Pandas Mean calculation time: {pandas_mean_time} seconds\")\n",
    "\n"
   ]
  },
  {
   "cell_type": "code",
   "execution_count": null,
   "metadata": {},
   "outputs": [],
   "source": [
    "#code for AIM #2 .2\n",
    "import numpy as np\n",
    "\n",
    "# Load dataset\n",
    "start_time = time.time()\n",
    "data = np.genfromtxt('sleep_health.csv', delimiter=',', skip_header=1, dtype=None, encoding='utf-8', names=True)\n",
    "\n",
    "# Calculate means\n",
    "mean_values_np = np.mean([data['Sleep_Duration'], data['Systolic_Blood_Pressure'], data['Diastolic_Blood_Pressure'], data['Heart_Rate'], data['Daily_Steps']], axis=1)\n",
    "numpy_mean_time = time.time() - start_time\n",
    "print(\"NumPy Mean:\\n\", mean_values_np)\n",
    "print(f\"NumPy Mean calculation time: {numpy_mean_time} seconds\")\n"
   ]
  },
  {
   "cell_type": "code",
   "execution_count": null,
   "metadata": {},
   "outputs": [],
   "source": [
    "#code for AIM #2 .3\n",
    "# Correlation\n",
    "correlation_matrix = df.corr()\n",
    "sleep_age = df['Sleep Duration'].corr(df['Age'])\n",
    "sleep_heart_rate = df['Sleep Duration'].corr(df['Heart Rate'])\n",
    "sleep_daily_steps = df['Sleep Duration'].corr(df['Daily Steps'])\n",
    "\n",
    "print(\"Correlation Matrix:\\n\", correlation_matrix)\n",
    "print(f\"Sleep Duration and Age correlation: {sleep_age}\")\n",
    "print(f\"Sleep Duration and Heart Rate correlation: {sleep_heart_rate}\")\n",
    "print(f\"Sleep Duration and Daily Steps correlation: {sleep_daily_steps}\")\n"
   ]
  },
  {
   "cell_type": "code",
   "execution_count": null,
   "metadata": {},
   "outputs": [],
   "source": [
    "#code for AIM #2 .4\n",
    "# Correlation using NumPy\n",
    "corr_np = np.corrcoef(data['Sleep_Duration'], data['Age'])[0, 1]\n",
    "corr_np_heart_rate = np.corrcoef(data['Sleep_Duration'], data['Heart_Rate'])[0, 1]\n",
    "corr_np_daily_steps = np.corrcoef(data['Sleep_Duration'], data['Daily_Steps'])[0, 1]\n",
    "\n",
    "print(f\"NumPy Sleep Duration and Age correlation: {corr_np}\")\n",
    "print(f\"NumPy Sleep Duration and Heart Rate correlation: {corr_np_heart_rate}\")\n",
    "print(f\"NumPy Sleep Duration and Daily Steps correlation: {corr_np_daily_steps}\")\n"
   ]
  },
  {
   "cell_type": "code",
   "execution_count": null,
   "metadata": {},
   "outputs": [],
   "source": [
    "#code for AIM #2 .5\n",
    "# Standard Deviation using Pandas\n",
    "std_dev_pandas = df['Sleep Duration'].std()\n",
    "print(f\"Standard Deviation (Pandas): {std_dev_pandas}\")\n"
   ]
  },
  {
   "cell_type": "code",
   "execution_count": null,
   "metadata": {},
   "outputs": [],
   "source": [
    "#code for AIM #2 .6\n",
    "# Standard Deviation using NumPy\n",
    "std_dev_numpy = np.std(data['Sleep_Duration'], ddof=1)  # Using ddof=1 for sample std deviation\n",
    "print(f\"Standard Deviation (NumPy): {std_dev_numpy}\")\n"
   ]
  },
  {
   "cell_type": "code",
   "execution_count": null,
   "metadata": {},
   "outputs": [],
   "source": [
    "#code for AIM #2 .7\n",
    "# Overall timing for both\n",
    "start_time_pandas = time.time()\n",
    "df = pd.read_csv('sleep_health.csv')\n",
    "df[['Sleep Duration', 'Systolic Blood Pressure', 'Diastolic Blood Pressure', 'Heart Rate', 'Daily Steps']].std()\n",
    "total_pandas_time = time.time() - start_time_pandas\n",
    "\n",
    "start_time_numpy = time.time()\n",
    "data = np.genfromtxt('sleep_health.csv', delimiter=',', skip_header=1, dtype=None, encoding='utf-8', names=True)\n",
    "np.std(data['Sleep_Duration'], ddof=1)\n",
    "total_numpy_time = time.time() - start_time_numpy\n",
    "\n",
    "print(f\"Total Pandas time: {total_pandas_time} seconds\")\n",
    "print(f\"Total NumPy time: {total_numpy_time} seconds\")\n"
   ]
  },
  {
   "cell_type": "markdown",
   "metadata": {},
   "source": [
    "AIM #3: Use suitable plots to visualize the data\n",
    "\n",
    "Using only pandas (and matplotlib/seaborn if necessary) plot the distribution for 1.1. Age 1.2. Sleep Duration 1.3. Quality of Sleep 1.4. Physical Activity Level 1.5. Stress Level 1.6. Heart Rate\n",
    "Using only NumPy, do the same as Step 1. You will need matplotlib for this\n",
    "Using only pandas, use the appropriate plot to 3.1. See the distribution of 'Sleep Duration' based on 'Quality of Sleep' 3.2. See the distribution of 'Sleep Duration' based on 'Stress Level' 3.3. See the distribution of 'Sleep Duration' based on 'Physical Activity Level' 3.4. See the distribution of 'Sleep Duration' based on 'Occupation' 3.5. See the distribution of 'Sleep Duration' based on 'BMI'\n",
    "Using only NumPy, do the same as Step 3. You will need matplotlib for this\n",
    "Using only pandas, use a suitable plot to see the relation between 5.1. Age and Sleep Duration 5.2. Sleep Duration and Heart Rate 5.3. Heart Rate and Daily Steps 5.4. Sleep Duration and Daily Steps\n",
    "Using only NumPy, do the same as Step 5. You will need matplotlib for this\n",
    "Find the time difference between plotting using only pandas, and plotting using NumPy\n"
   ]
  },
  {
   "cell_type": "code",
   "execution_count": null,
   "metadata": {},
   "outputs": [],
   "source": [
    "#code for AIM #3 .1\n",
    "import pandas as pd\n",
    "import matplotlib.pyplot as plt\n",
    "import seaborn as sns\n",
    "\n",
    "# Load dataset\n",
    "df = pd.read_csv('sleep_health.csv')\n",
    "\n",
    "# Distribution plots\n",
    "features = ['Age', 'Sleep Duration', 'Quality of Sleep', 'Physical Activity Level', 'Stress Level', 'Heart Rate']\n",
    "for feature in features:\n",
    "    plt.figure(figsize=(10, 6))\n",
    "    sns.histplot(df[feature], kde=True)\n",
    "    plt.title(f'Distribution of {feature}')\n",
    "    plt.xlabel(feature)\n",
    "    plt.ylabel('Frequency')\n",
    "    plt.show()\n"
   ]
  },
  {
   "cell_type": "code",
   "execution_count": null,
   "metadata": {},
   "outputs": [],
   "source": [
    "#code for AIM #3 .2\n",
    "import numpy as np\n",
    "\n",
    "# Load dataset\n",
    "data = np.genfromtxt('sleep_health.csv', delimiter=',', skip_header=1, dtype=None, encoding='utf-8', names=True)\n",
    "\n",
    "# Distribution plots\n",
    "features_np = ['Age', 'Sleep_Duration', 'Quality_of_Sleep', 'Physical_Activity_Level', 'Stress_Level', 'Heart_Rate']\n",
    "for feature in features_np:\n",
    "    plt.figure(figsize=(10, 6))\n",
    "    plt.hist(data[feature], bins=30, alpha=0.7, color='blue')\n",
    "    plt.title(f'Distribution of {feature}')\n",
    "    plt.xlabel(feature)\n",
    "    plt.ylabel('Frequency')\n",
    "    plt.show()\n"
   ]
  },
  {
   "cell_type": "code",
   "execution_count": null,
   "metadata": {},
   "outputs": [],
   "source": [
    "#code for AIM #3 .3\n",
    "# Grouped distribution plots\n",
    "grouped_features = ['Quality of Sleep', 'Stress Level', 'Physical Activity Level', 'Occupation', 'BMI']\n",
    "for feature in grouped_features:\n",
    "    plt.figure(figsize=(10, 6))\n",
    "    sns.boxplot(x=df[feature], y=df['Sleep Duration'])\n",
    "    plt.title(f'Sleep Duration by {feature}')\n",
    "    plt.xlabel(feature)\n",
    "    plt.ylabel('Sleep Duration')\n",
    "    plt.show()\n"
   ]
  },
  {
   "cell_type": "code",
   "execution_count": null,
   "metadata": {},
   "outputs": [],
   "source": [
    "#code for AIM #3 .4\n",
    "for feature in grouped_features:\n",
    "    unique_values = np.unique(data[feature])\n",
    "    sleep_duration_list = [data['Sleep_Duration'][data[feature] == val] for val in unique_values]\n",
    "    \n",
    "    plt.figure(figsize=(10, 6))\n",
    "    plt.boxplot(sleep_duration_list, labels=unique_values)\n",
    "    plt.title(f'Sleep Duration by {feature}')\n",
    "    plt.xlabel(feature)\n",
    "    plt.ylabel('Sleep Duration')\n",
    "    plt.show()\n"
   ]
  },
  {
   "cell_type": "code",
   "execution_count": null,
   "metadata": {},
   "outputs": [],
   "source": [
    "#code for AIM #3 .5\n",
    "relationship_features = [('Age', 'Sleep Duration'), \n",
    "                         ('Sleep Duration', 'Heart Rate'), \n",
    "                         ('Heart Rate', 'Daily Steps'), \n",
    "                         ('Sleep Duration', 'Daily Steps')]\n",
    "\n",
    "for x_feature, y_feature in relationship_features:\n",
    "    plt.figure(figsize=(10, 6))\n",
    "    sns.scatterplot(data=df, x=x_feature, y=y_feature)\n",
    "    plt.title(f'Relationship between {x_feature} and {y_feature}')\n",
    "    plt.xlabel(x_feature)\n",
    "    plt.ylabel(y_feature)\n",
    "    plt.show()\n"
   ]
  },
  {
   "cell_type": "code",
   "execution_count": null,
   "metadata": {},
   "outputs": [],
   "source": [
    "#code for AIM #3 .6\n",
    "for x_feature, y_feature in relationship_features:\n",
    "    plt.figure(figsize=(10, 6))\n",
    "    plt.scatter(data[x_feature], data[y_feature], alpha=0.5)\n",
    "    plt.title(f'Relationship between {x_feature} and {y_feature}')\n",
    "    plt.xlabel(x_feature)\n",
    "    plt.ylabel(y_feature)\n",
    "    plt.show()\n"
   ]
  },
  {
   "cell_type": "code",
   "execution_count": null,
   "metadata": {},
   "outputs": [],
   "source": [
    "#code for AIM #3 .7\n",
    "# Timing for Pandas\n",
    "import time\n",
    "\n",
    "start_time_pandas = time.time()\n",
    "# (Include the Pandas plotting code here)\n",
    "total_pandas_time = time.time() - start_time_pandas\n",
    "\n",
    "# Timing for NumPy\n",
    "start_time_numpy = time.time()\n",
    "# (Include the NumPy plotting code here)\n",
    "total_numpy_time = time.time() - start_time_numpy\n",
    "\n",
    "print(f\"Total Pandas plotting time: {total_pandas_time} seconds\")\n",
    "print(f\"Total NumPy plotting time: {total_numpy_time} seconds\")\n"
   ]
  },
  {
   "cell_type": "markdown",
   "metadata": {},
   "source": [
    "AIM #4: Other possible plotting\n",
    "\n",
    "1. Think of other possible plots to show some interesting distribution and relations. Do this using both pandas and NumPy\n",
    "\n"
   ]
  },
  {
   "cell_type": "code",
   "execution_count": null,
   "metadata": {},
   "outputs": [],
   "source": [
    "Pair Plots: Use sns.pairplot() in Pandas for visualizing relationships among multiple variables.\n",
    "Heatmaps: Use sns.heatmap() for visualizing correlation matrices.\n",
    "Violin Plots: Use sns.violinplot() to show distributions across categories."
   ]
  }
 ],
 "metadata": {
  "kernelspec": {
   "display_name": "Python 3",
   "language": "python",
   "name": "python3"
  },
  "language_info": {
   "codemirror_mode": {
    "name": "ipython",
    "version": 3
   },
   "file_extension": ".py",
   "mimetype": "text/x-python",
   "name": "python",
   "nbconvert_exporter": "python",
   "pygments_lexer": "ipython3",
   "version": "3.11.5"
  }
 },
 "nbformat": 4,
 "nbformat_minor": 2
}
